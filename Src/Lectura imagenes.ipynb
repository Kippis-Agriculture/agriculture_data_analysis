{
 "cells": [
  {
   "cell_type": "code",
   "execution_count": 3,
   "id": "13796d07",
   "metadata": {},
   "outputs": [
    {
     "name": "stdout",
     "output_type": "stream",
     "text": [
      "Requirement already satisfied: scikit-learn in c:\\users\\toshiba\\anaconda3\\lib\\site-packages (1.4.2)\n",
      "Requirement already satisfied: joblib>=1.2.0 in c:\\users\\toshiba\\anaconda3\\lib\\site-packages (from scikit-learn) (1.4.2)\n",
      "Requirement already satisfied: numpy>=1.19.5 in c:\\users\\toshiba\\anaconda3\\lib\\site-packages (from scikit-learn) (1.23.5)\n",
      "Requirement already satisfied: threadpoolctl>=2.0.0 in c:\\users\\toshiba\\anaconda3\\lib\\site-packages (from scikit-learn) (2.2.0)\n",
      "Requirement already satisfied: scipy>=1.6.0 in c:\\users\\toshiba\\anaconda3\\lib\\site-packages (from scikit-learn) (1.10.0)\n",
      "Note: you may need to restart the kernel to use updated packages.\n"
     ]
    }
   ],
   "source": [
    "pip install -U scikit-learn "
   ]
  },
  {
   "cell_type": "code",
   "execution_count": null,
   "id": "e7d59e17",
   "metadata": {},
   "outputs": [],
   "source": [
    "from skimage import io, color\n",
    "img = io.imread('baboon.png') #puede ser cualquier otra imagen\n",
    "dimensions = color.guess_spatial_dimensions(img)\n",
    "print dimensions\n",
    "\n",
    "#La salida del anterior script es 3, lo que significa que tenemos una imagen que consta de tres dimensiones espaciales."
   ]
  },
  {
   "cell_type": "code",
   "execution_count": null,
   "id": "698cd985",
   "metadata": {},
   "outputs": [],
   "source": [
    "import skimage.io as io\n",
    "from skimage.color import rgb2gray \n",
    "img = io.imread('baboon.png')\n",
    "print img.shape\n",
    "\n",
    "#salida: (512, 512, 4) imagen es una 3D array image (en formato RGBA)"
   ]
  },
  {
   "cell_type": "code",
   "execution_count": null,
   "id": "fc3c9c1f",
   "metadata": {},
   "outputs": [],
   "source": [
    "#convertir imagen a 2d en esclaa de grises \n",
    "import skimage.io as io\n",
    "from skimage.color import rgb2gray \n",
    "img = io.imread('baboon.png')\n",
    "img_grayscale = rgb2gray(img)"
   ]
  },
  {
   "cell_type": "code",
   "execution_count": null,
   "id": "aa2bcb09",
   "metadata": {},
   "outputs": [],
   "source": [
    "#Guardar imagen en un fichero\n",
    "io.imsave('baboon-gs.png',img_grayscale)"
   ]
  },
  {
   "cell_type": "code",
   "execution_count": null,
   "id": "3c2c5c26",
   "metadata": {},
   "outputs": [],
   "source": [
    "#Mostrar nueva imagen a escala grises \n",
    "show_grayscale = io.imshow(img_grayscale)\n",
    "io.show()"
   ]
  },
  {
   "cell_type": "code",
   "execution_count": null,
   "id": "06944414",
   "metadata": {},
   "outputs": [],
   "source": [
    "#Aplicar filtros a la imagen \n",
    "from skimage import data, io, filters\n",
    "img = io.imread('baboon.png')\n",
    "edges = filters.sobel(img)\n",
    "io.imshow(edges)\n",
    "io.show()"
   ]
  },
  {
   "cell_type": "code",
   "execution_count": null,
   "id": "cbe85c9b",
   "metadata": {},
   "outputs": [],
   "source": []
  },
  {
   "cell_type": "code",
   "execution_count": null,
   "id": "e6160012",
   "metadata": {},
   "outputs": [],
   "source": []
  },
  {
   "cell_type": "code",
   "execution_count": null,
   "id": "5a2b9cbe",
   "metadata": {},
   "outputs": [],
   "source": []
  },
  {
   "cell_type": "code",
   "execution_count": null,
   "id": "4f62cc22",
   "metadata": {},
   "outputs": [],
   "source": []
  },
  {
   "cell_type": "code",
   "execution_count": null,
   "id": "ef411730",
   "metadata": {},
   "outputs": [],
   "source": []
  }
 ],
 "metadata": {
  "kernelspec": {
   "display_name": "Python 3 (ipykernel)",
   "language": "python",
   "name": "python3"
  },
  "language_info": {
   "codemirror_mode": {
    "name": "ipython",
    "version": 3
   },
   "file_extension": ".py",
   "mimetype": "text/x-python",
   "name": "python",
   "nbconvert_exporter": "python",
   "pygments_lexer": "ipython3",
   "version": "3.10.9"
  }
 },
 "nbformat": 4,
 "nbformat_minor": 5
}
